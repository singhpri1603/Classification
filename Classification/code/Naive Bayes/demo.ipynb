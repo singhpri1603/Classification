{
 "cells": [
  {
   "cell_type": "code",
   "execution_count": 89,
   "metadata": {
    "collapsed": true
   },
   "outputs": [],
   "source": [
    "import numpy as np\n"
   ]
  },
  {
   "cell_type": "code",
   "execution_count": 90,
   "metadata": {
    "collapsed": true
   },
   "outputs": [],
   "source": [
    "def singlePost(point, datai):\n",
    "#     print datai\n",
    "#     print point\n",
    "    p = 1\n",
    "    for j in range(point.shape[0]):\n",
    "        tempProb = np.argwhere(datai[:,j] == point[j]).shape[0]\n",
    "        #print tempProb\n",
    "        #tempProb = tempProb +1 #insert laplacian correction if needed\n",
    "        tempProb = float(tempProb)/float(datai.shape[0])\n",
    "        p = p*tempProb\n",
    "    return p"
   ]
  },
  {
   "cell_type": "markdown",
   "metadata": {},
   "source": [
    "## Script starts here"
   ]
  },
  {
   "cell_type": "code",
   "execution_count": 91,
   "metadata": {
    "collapsed": false
   },
   "outputs": [
    {
     "name": "stdout",
     "output_type": "stream",
     "text": [
      "(14, 4)\n",
      "(5, 4)\n",
      "(9, 4)\n"
     ]
    }
   ],
   "source": [
    "filename = \"project3_dataset4\"\n",
    "Xtrain = np.genfromtxt(filename+'.txt',dtype='str',delimiter='\\t')\n",
    "#print Xtrain\n",
    "\n",
    "#manually enter test sample below\n",
    "Xtest = np.array(['sunny', 'cool', 'high', 'weak'])   # test sample\n",
    "\n",
    "numCols = Xtrain.shape[1]\n",
    "numRows = Xtrain.shape[0]\n",
    "\n",
    "dataAll = Xtrain[:,:numCols-1]\n",
    "print dataAll.shape\n",
    "\n",
    "data0_indices = np.argwhere(Xtrain[:,numCols-1] == '0')\n",
    "data0 = Xtrain[data0_indices[:,0],:numCols-1]\n",
    "print data0.shape\n",
    "\n",
    "data1_indices = np.argwhere(Xtrain[:,numCols-1] == '1')\n",
    "data1 = Xtrain[data1_indices[:,0],:numCols-1]\n",
    "print data1.shape\n"
   ]
  },
  {
   "cell_type": "code",
   "execution_count": 92,
   "metadata": {
    "collapsed": false
   },
   "outputs": [
    {
     "name": "stdout",
     "output_type": "stream",
     "text": [
      "Prior probability of 0: 0.357142857143\n",
      "Prior probability of 1: 0.642857142857\n"
     ]
    }
   ],
   "source": [
    "prior0 = float(data0.shape[0])/float(Xtrain.shape[0])\n",
    "prior1 = float(data1.shape[0]/float(Xtrain.shape[0]))\n",
    "\n",
    "print \"Prior probability of 0: \" + str(prior0)\n",
    "print \"Prior probability of 1: \" + str(prior1)\n"
   ]
  },
  {
   "cell_type": "code",
   "execution_count": 93,
   "metadata": {
    "collapsed": false
   },
   "outputs": [
    {
     "name": "stdout",
     "output_type": "stream",
     "text": [
      "0.0137142857143\n",
      "0.010582010582\n"
     ]
    }
   ],
   "source": [
    "p0 = singlePost(Xtest, data0)\n",
    "p1 = singlePost(Xtest, data1)\n",
    "#print p0\n",
    "#print p1\n",
    "desPrior = singlePost(Xtest, dataAll)\n",
    "#print desPrior\n",
    "p0 = float(p0*prior0)\n",
    "print p0\n",
    "p1 = float(p1*prior1)\n",
    "print p1\n",
    "\n",
    "p0 = p0/desPrior\n",
    "p1 = p1/desPrior\n"
   ]
  },
  {
   "cell_type": "markdown",
   "metadata": {},
   "source": [
    "## RESULT"
   ]
  },
  {
   "cell_type": "code",
   "execution_count": 94,
   "metadata": {
    "collapsed": false
   },
   "outputs": [
    {
     "name": "stdout",
     "output_type": "stream",
     "text": [
      "------------------------\n",
      "P(H0|X) = 0.4704\n",
      "P(H1|X) = 0.362962962963\n"
     ]
    }
   ],
   "source": [
    "print \"------------------------\"\n",
    "print \"P(H0|X) = \" + str(p0)\n",
    "print \"P(H1|X) = \" + str(p1)"
   ]
  }
 ],
 "metadata": {
  "kernelspec": {
   "display_name": "Python 2",
   "language": "python",
   "name": "python2"
  },
  "language_info": {
   "codemirror_mode": {
    "name": "ipython",
    "version": 2
   },
   "file_extension": ".py",
   "mimetype": "text/x-python",
   "name": "python",
   "nbconvert_exporter": "python",
   "pygments_lexer": "ipython2",
   "version": "2.7.11"
  }
 },
 "nbformat": 4,
 "nbformat_minor": 0
}
