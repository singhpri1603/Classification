{
 "metadata": {
  "name": "",
  "signature": "sha256:a0d0c08c3aa41700372505423c43c61d4321738777a8a39e3062f6d19305728f"
 },
 "nbformat": 3,
 "nbformat_minor": 0,
 "worksheets": [
  {
   "cells": [
    {
     "cell_type": "heading",
     "level": 1,
     "metadata": {},
     "source": [
      "k fold decision tree"
     ]
    },
    {
     "cell_type": "code",
     "collapsed": false,
     "input": [
      "#### 10 \n",
      "\n",
      "separate_test_file=0\n",
      "k_fold_remove=0\n",
      "k_fold=10\n",
      "\n",
      "\n",
      "\n",
      "\n",
      "#FOR  DATASET 1\n",
      "# String_columns=[]\n",
      "# filename=\"project3_dataset1\"\n",
      "\n",
      "# FOR DATASET 2\n",
      "# filename=\"project3_dataset2\"\n",
      "# String_columns=[4]\n",
      "\n",
      "# FOR DEMO DATASET 4\n",
      "filename=\"../project3_dataset4\"\n",
      "String_columns=[0,1,2,3]\n",
      "k_fold_remove=1 #k_fold=1 and k_fold_remove=1 to remove k fold it will run on training data as test data\n",
      "k_fold=1\n",
      "\n",
      "\n",
      "\n",
      "###########prune parameters\n",
      "# prune_multiple_flag=0 and prune_minimum=0 means no pruning . Overfit \n",
      "###\n",
      "prune_multiple_flag=0    \n",
      "prune_multiple=5\n",
      "\n",
      "prune_minimum=0\n",
      "\n",
      "\n",
      "\n",
      "# filename=\"../project3_dataset3_train\"\n",
      "# String_columns=[]\n",
      "# filename_test=\"../project3_dataset3_test\"\n",
      "# k_fold_remove=1\n",
      "# separate_test_file=1\n",
      "\n",
      "\n",
      "\n",
      "file_in=filename+str(\".txt\")\n",
      "lines = [line.rstrip('\\n') for line in open(''+str(file_in))]\n",
      "\n",
      "\n",
      "\n"
     ],
     "language": "python",
     "metadata": {},
     "outputs": [],
     "prompt_number": 448
    },
    {
     "cell_type": "code",
     "collapsed": false,
     "input": [
      "separate_test_file"
     ],
     "language": "python",
     "metadata": {},
     "outputs": [
      {
       "metadata": {},
       "output_type": "pyout",
       "prompt_number": 449,
       "text": [
        "0"
       ]
      }
     ],
     "prompt_number": 449
    },
    {
     "cell_type": "code",
     "collapsed": false,
     "input": [
      "if separate_test_file==1:\n",
      "    file_in_test=filename_test+str(\".txt\")\n",
      "    lines_test = [line.rstrip('\\n') for line in open(''+str(file_in_test))]\n",
      "\n",
      "    list_container_test=[]\n",
      "    for line in lines_test:\n",
      "        each_line=line.split()\n",
      "        #print each_line\n",
      "        list_container_test.append(each_line)\n",
      "    print list_container_test[0:10]\n",
      "\n",
      "    df_data_external_test = pd.DataFrame(list_container_test)"
     ],
     "language": "python",
     "metadata": {},
     "outputs": [],
     "prompt_number": 450
    },
    {
     "cell_type": "code",
     "collapsed": false,
     "input": [
      "lines\n",
      "nodes_cnt=len(lines)\n",
      "each_line=lines[0].split()\n",
      "col_each_line=len(each_line)\n",
      "print each_line\n",
      "print col_each_line"
     ],
     "language": "python",
     "metadata": {},
     "outputs": [
      {
       "output_type": "stream",
       "stream": "stdout",
       "text": [
        "['sunny', 'hot', 'high', 'weak', '0']\n",
        "5\n"
       ]
      }
     ],
     "prompt_number": 451
    },
    {
     "cell_type": "code",
     "collapsed": false,
     "input": [],
     "language": "python",
     "metadata": {},
     "outputs": [],
     "prompt_number": 451
    },
    {
     "cell_type": "code",
     "collapsed": false,
     "input": [
      "len(lines)"
     ],
     "language": "python",
     "metadata": {},
     "outputs": [
      {
       "metadata": {},
       "output_type": "pyout",
       "prompt_number": 452,
       "text": [
        "14"
       ]
      }
     ],
     "prompt_number": 452
    },
    {
     "cell_type": "code",
     "collapsed": false,
     "input": [
      "import pandas as pd\n",
      "\n",
      "from random import shuffle"
     ],
     "language": "python",
     "metadata": {},
     "outputs": [],
     "prompt_number": 453
    },
    {
     "cell_type": "code",
     "collapsed": false,
     "input": [],
     "language": "python",
     "metadata": {},
     "outputs": [],
     "prompt_number": 453
    },
    {
     "cell_type": "code",
     "collapsed": false,
     "input": [
      "list_container=[]\n",
      "for line in lines:\n",
      "    each_line=line.split()\n",
      "    #print each_line\n",
      "    list_container.append(each_line)\n",
      "print list_container[0:10]"
     ],
     "language": "python",
     "metadata": {},
     "outputs": [
      {
       "output_type": "stream",
       "stream": "stdout",
       "text": [
        "[['sunny', 'hot', 'high', 'weak', '0'], ['sunny', 'hot', 'high', 'strong', '0'], ['overcast', 'hot', 'high', 'weak', '1'], ['rain', 'mild', 'high', 'weak', '1'], ['rain', 'cool', 'normal', 'weak', '1'], ['rain', 'cool', 'normal', 'strong', '0'], ['overcast', 'cool', 'normal', 'strong', '1'], ['sunny', 'mild', 'high', 'weak', '0'], ['sunny', 'cool', 'normal', 'weak', '1'], ['rain', 'mild', 'normal', 'weak', '1']]\n"
       ]
      }
     ],
     "prompt_number": 454
    },
    {
     "cell_type": "code",
     "collapsed": false,
     "input": [],
     "language": "python",
     "metadata": {},
     "outputs": [],
     "prompt_number": 454
    },
    {
     "cell_type": "code",
     "collapsed": false,
     "input": [
      "df_data = pd.DataFrame(list_container)\n",
      "\n",
      "\n",
      "\n"
     ],
     "language": "python",
     "metadata": {},
     "outputs": [],
     "prompt_number": 455
    },
    {
     "cell_type": "code",
     "collapsed": false,
     "input": [
      "# def todis(strin):\n",
      "#     if strin==\"Present\":\n",
      "#         return 1\n",
      "#     else:\n",
      "#         return 0\n",
      "\n",
      "# df_data[4]=df_data[4].apply(lambda x: todis(x))\n",
      "\n"
     ],
     "language": "python",
     "metadata": {},
     "outputs": [],
     "prompt_number": 456
    },
    {
     "cell_type": "code",
     "collapsed": false,
     "input": [
      "df_data[1:10]"
     ],
     "language": "python",
     "metadata": {},
     "outputs": [
      {
       "html": [
        "<div style=\"max-width:1500px;overflow:auto;\">\n",
        "<table border=\"1\" class=\"dataframe\">\n",
        "  <thead>\n",
        "    <tr style=\"text-align: right;\">\n",
        "      <th></th>\n",
        "      <th>0</th>\n",
        "      <th>1</th>\n",
        "      <th>2</th>\n",
        "      <th>3</th>\n",
        "      <th>4</th>\n",
        "    </tr>\n",
        "  </thead>\n",
        "  <tbody>\n",
        "    <tr>\n",
        "      <th>1</th>\n",
        "      <td>sunny</td>\n",
        "      <td>hot</td>\n",
        "      <td>high</td>\n",
        "      <td>strong</td>\n",
        "      <td>0</td>\n",
        "    </tr>\n",
        "    <tr>\n",
        "      <th>2</th>\n",
        "      <td>overcast</td>\n",
        "      <td>hot</td>\n",
        "      <td>high</td>\n",
        "      <td>weak</td>\n",
        "      <td>1</td>\n",
        "    </tr>\n",
        "    <tr>\n",
        "      <th>3</th>\n",
        "      <td>rain</td>\n",
        "      <td>mild</td>\n",
        "      <td>high</td>\n",
        "      <td>weak</td>\n",
        "      <td>1</td>\n",
        "    </tr>\n",
        "    <tr>\n",
        "      <th>4</th>\n",
        "      <td>rain</td>\n",
        "      <td>cool</td>\n",
        "      <td>normal</td>\n",
        "      <td>weak</td>\n",
        "      <td>1</td>\n",
        "    </tr>\n",
        "    <tr>\n",
        "      <th>5</th>\n",
        "      <td>rain</td>\n",
        "      <td>cool</td>\n",
        "      <td>normal</td>\n",
        "      <td>strong</td>\n",
        "      <td>0</td>\n",
        "    </tr>\n",
        "    <tr>\n",
        "      <th>6</th>\n",
        "      <td>overcast</td>\n",
        "      <td>cool</td>\n",
        "      <td>normal</td>\n",
        "      <td>strong</td>\n",
        "      <td>1</td>\n",
        "    </tr>\n",
        "    <tr>\n",
        "      <th>7</th>\n",
        "      <td>sunny</td>\n",
        "      <td>mild</td>\n",
        "      <td>high</td>\n",
        "      <td>weak</td>\n",
        "      <td>0</td>\n",
        "    </tr>\n",
        "    <tr>\n",
        "      <th>8</th>\n",
        "      <td>sunny</td>\n",
        "      <td>cool</td>\n",
        "      <td>normal</td>\n",
        "      <td>weak</td>\n",
        "      <td>1</td>\n",
        "    </tr>\n",
        "    <tr>\n",
        "      <th>9</th>\n",
        "      <td>rain</td>\n",
        "      <td>mild</td>\n",
        "      <td>normal</td>\n",
        "      <td>weak</td>\n",
        "      <td>1</td>\n",
        "    </tr>\n",
        "  </tbody>\n",
        "</table>\n",
        "</div>"
       ],
       "metadata": {},
       "output_type": "pyout",
       "prompt_number": 457,
       "text": [
        "          0     1       2       3  4\n",
        "1     sunny   hot    high  strong  0\n",
        "2  overcast   hot    high    weak  1\n",
        "3      rain  mild    high    weak  1\n",
        "4      rain  cool  normal    weak  1\n",
        "5      rain  cool  normal  strong  0\n",
        "6  overcast  cool  normal  strong  1\n",
        "7     sunny  mild    high    weak  0\n",
        "8     sunny  cool  normal    weak  1\n",
        "9      rain  mild  normal    weak  1"
       ]
      }
     ],
     "prompt_number": 457
    },
    {
     "cell_type": "code",
     "collapsed": false,
     "input": [],
     "language": "python",
     "metadata": {},
     "outputs": [],
     "prompt_number": 457
    },
    {
     "cell_type": "code",
     "collapsed": false,
     "input": [
      "label_column=df_data.columns.values[len(df_data.columns.values)-1]\n",
      "\n",
      "print 4 in String_columns\n",
      "print label_column"
     ],
     "language": "python",
     "metadata": {},
     "outputs": [
      {
       "output_type": "stream",
       "stream": "stdout",
       "text": [
        "False\n",
        "4\n"
       ]
      }
     ],
     "prompt_number": 458
    },
    {
     "cell_type": "code",
     "collapsed": false,
     "input": [
      "columns_values=df_data.columns.values[0:-1]\n",
      "columns_values"
     ],
     "language": "python",
     "metadata": {},
     "outputs": [
      {
       "metadata": {},
       "output_type": "pyout",
       "prompt_number": 459,
       "text": [
        "array([0, 1, 2, 3], dtype=int64)"
       ]
      }
     ],
     "prompt_number": 459
    },
    {
     "cell_type": "code",
     "collapsed": false,
     "input": [
      "df_data.describe()"
     ],
     "language": "python",
     "metadata": {},
     "outputs": [
      {
       "html": [
        "<div style=\"max-width:1500px;overflow:auto;\">\n",
        "<table border=\"1\" class=\"dataframe\">\n",
        "  <thead>\n",
        "    <tr style=\"text-align: right;\">\n",
        "      <th></th>\n",
        "      <th>0</th>\n",
        "      <th>1</th>\n",
        "      <th>2</th>\n",
        "      <th>3</th>\n",
        "      <th>4</th>\n",
        "    </tr>\n",
        "  </thead>\n",
        "  <tbody>\n",
        "    <tr>\n",
        "      <th>count</th>\n",
        "      <td>14</td>\n",
        "      <td>14</td>\n",
        "      <td>14</td>\n",
        "      <td>14</td>\n",
        "      <td>14</td>\n",
        "    </tr>\n",
        "    <tr>\n",
        "      <th>unique</th>\n",
        "      <td>3</td>\n",
        "      <td>3</td>\n",
        "      <td>2</td>\n",
        "      <td>2</td>\n",
        "      <td>2</td>\n",
        "    </tr>\n",
        "    <tr>\n",
        "      <th>top</th>\n",
        "      <td>rain</td>\n",
        "      <td>mild</td>\n",
        "      <td>normal</td>\n",
        "      <td>weak</td>\n",
        "      <td>1</td>\n",
        "    </tr>\n",
        "    <tr>\n",
        "      <th>freq</th>\n",
        "      <td>5</td>\n",
        "      <td>6</td>\n",
        "      <td>7</td>\n",
        "      <td>8</td>\n",
        "      <td>9</td>\n",
        "    </tr>\n",
        "  </tbody>\n",
        "</table>\n",
        "</div>"
       ],
       "metadata": {},
       "output_type": "pyout",
       "prompt_number": 460,
       "text": [
        "           0     1       2     3   4\n",
        "count     14    14      14    14  14\n",
        "unique     3     3       2     2   2\n",
        "top     rain  mild  normal  weak   1\n",
        "freq       5     6       7     8   9"
       ]
      }
     ],
     "prompt_number": 460
    },
    {
     "cell_type": "code",
     "collapsed": false,
     "input": [
      "#remove non string column\n",
      "columns_values_non_str=columns_values.tolist()\n",
      "\n",
      "for st_col in String_columns:\n",
      "    columns_values_non_str.remove(st_col)\n",
      "    \n",
      "columns_values_non_str[1:10]"
     ],
     "language": "python",
     "metadata": {},
     "outputs": [
      {
       "metadata": {},
       "output_type": "pyout",
       "prompt_number": 461,
       "text": [
        "[]"
       ]
      }
     ],
     "prompt_number": 461
    },
    {
     "cell_type": "code",
     "collapsed": false,
     "input": [
      "df_data.describe()"
     ],
     "language": "python",
     "metadata": {},
     "outputs": [
      {
       "html": [
        "<div style=\"max-width:1500px;overflow:auto;\">\n",
        "<table border=\"1\" class=\"dataframe\">\n",
        "  <thead>\n",
        "    <tr style=\"text-align: right;\">\n",
        "      <th></th>\n",
        "      <th>0</th>\n",
        "      <th>1</th>\n",
        "      <th>2</th>\n",
        "      <th>3</th>\n",
        "      <th>4</th>\n",
        "    </tr>\n",
        "  </thead>\n",
        "  <tbody>\n",
        "    <tr>\n",
        "      <th>count</th>\n",
        "      <td>14</td>\n",
        "      <td>14</td>\n",
        "      <td>14</td>\n",
        "      <td>14</td>\n",
        "      <td>14</td>\n",
        "    </tr>\n",
        "    <tr>\n",
        "      <th>unique</th>\n",
        "      <td>3</td>\n",
        "      <td>3</td>\n",
        "      <td>2</td>\n",
        "      <td>2</td>\n",
        "      <td>2</td>\n",
        "    </tr>\n",
        "    <tr>\n",
        "      <th>top</th>\n",
        "      <td>rain</td>\n",
        "      <td>mild</td>\n",
        "      <td>normal</td>\n",
        "      <td>weak</td>\n",
        "      <td>1</td>\n",
        "    </tr>\n",
        "    <tr>\n",
        "      <th>freq</th>\n",
        "      <td>5</td>\n",
        "      <td>6</td>\n",
        "      <td>7</td>\n",
        "      <td>8</td>\n",
        "      <td>9</td>\n",
        "    </tr>\n",
        "  </tbody>\n",
        "</table>\n",
        "</div>"
       ],
       "metadata": {},
       "output_type": "pyout",
       "prompt_number": 462,
       "text": [
        "           0     1       2     3   4\n",
        "count     14    14      14    14  14\n",
        "unique     3     3       2     2   2\n",
        "top     rain  mild  normal  weak   1\n",
        "freq       5     6       7     8   9"
       ]
      }
     ],
     "prompt_number": 462
    },
    {
     "cell_type": "code",
     "collapsed": false,
     "input": [
      "df_data[columns_values_non_str]=df_data[columns_values_non_str].apply(pd.to_numeric)"
     ],
     "language": "python",
     "metadata": {},
     "outputs": [],
     "prompt_number": 463
    },
    {
     "cell_type": "code",
     "collapsed": false,
     "input": [
      "\n",
      "k_fold_cent=1.0/k_fold\n",
      "\n",
      "print k_fold_cent"
     ],
     "language": "python",
     "metadata": {},
     "outputs": [
      {
       "output_type": "stream",
       "stream": "stdout",
       "text": [
        "1.0\n"
       ]
      }
     ],
     "prompt_number": 464
    },
    {
     "cell_type": "code",
     "collapsed": false,
     "input": [
      "if k_fold_remove==1:\n",
      "    k_fold_cent=0.0"
     ],
     "language": "python",
     "metadata": {},
     "outputs": [],
     "prompt_number": 465
    },
    {
     "cell_type": "code",
     "collapsed": false,
     "input": [
      "df_data_full=df_data\n",
      "t_size=df_data_full.shape[0]\n",
      "test_size=int(k_fold_cent*t_size)\n",
      "\n",
      "train_size=t_size-test_size\n",
      "print test_size\n",
      "print train_size"
     ],
     "language": "python",
     "metadata": {},
     "outputs": [
      {
       "output_type": "stream",
       "stream": "stdout",
       "text": [
        "0\n",
        "14\n"
       ]
      }
     ],
     "prompt_number": 466
    },
    {
     "cell_type": "code",
     "collapsed": false,
     "input": [
      "class node:\n",
      "    \n",
      "    def __init__(self,col=-1,value=None,pred=None,lt=None,rt=None,status=\"running\",gini=-1,size=-1,splits=[-1,-1,-1,-1]):\n",
      "        self.col=col\n",
      "        self.val=value\n",
      "        #left tree will be matched value for string and less than for continuous\n",
      "        self.left_tree=lt\n",
      "        self.right_tree=rt\n",
      "        self.answer=pred\n",
      "        self.status=status\n",
      "        self.gini=gini\n",
      "        self.sample_size=size\n",
      "        self.splits=splits\n",
      "        \n",
      "    \n",
      "\n",
      "    def printnode(self):\n",
      "        print [self.col,self.val,self.status,self.answer,self.gini,self.sample_size,self.splits]\n",
      "        \n",
      "    def getnode(self):\n",
      "        if self.status=='finished':\n",
      "            return [self.col,self.val,self.answer,\"NA\",self.sample_size,self.splits]\n",
      "        else:\n",
      "            return [self.col,self.val,\"NA\",self.gini,self.sample_size,self.splits]\n",
      "    \n",
      "pq=node(col=1,value=.22)\n",
      "pq.printnode()\n",
      "rs=node(col=1,value=.23,lt=pq)\n",
      "rs.left_tree.printnode()"
     ],
     "language": "python",
     "metadata": {},
     "outputs": [
      {
       "output_type": "stream",
       "stream": "stdout",
       "text": [
        "[1, 0.22, 'running', None, -1, -1, [-1, -1, -1, -1]]\n",
        "[1, 0.22, 'running', None, -1, -1, [-1, -1, -1, -1]]\n"
       ]
      }
     ],
     "prompt_number": 467
    },
    {
     "cell_type": "code",
     "collapsed": false,
     "input": [
      "def gini_coef(lb_true,lb_false,rb_true,rb_false):\n",
      "    lb_size=lb_true+lb_false\n",
      "    rb_size=rb_true+rb_false\n",
      "    \n",
      "    gin_l=0\n",
      "    if lb_size!=0:\n",
      "        pl1=1.0*lb_true/(lb_true+lb_false)\n",
      "\n",
      "        pl2=1.0*lb_false/(lb_true+lb_false)\n",
      "        gin_l=1-math.pow(pl1,2)-math.pow(pl2,2)\n",
      "        \n",
      "    #print gin_l\n",
      "    gin_r=0\n",
      "    if rb_size!=0:\n",
      "        pr1=1.0*rb_true/(rb_true+rb_false)\n",
      "        pr2=1.0*rb_false/(rb_true+rb_false)\n",
      "        gin_r=1-math.pow(pr1,2)-math.pow(pr2,2)\n",
      "    #print gin_r\n",
      "    \n",
      "    n1=0\n",
      "    n2=0\n",
      "    if lb_size!=0 or rb_size!=0:\n",
      "        n1=1.0*lb_size/(lb_size+rb_size)\n",
      "        n2=1.0*rb_size/(lb_size+rb_size)\n",
      "    \n",
      "    total_gin=1.0*(((n1)*gin_l)+((n2)*gin_r))\n",
      "\n",
      "    return round(total_gin,3)\n",
      "\n",
      "\n",
      "gini_coef(5,0,4,5)\n",
      "\n"
     ],
     "language": "python",
     "metadata": {},
     "outputs": [
      {
       "metadata": {},
       "output_type": "pyout",
       "prompt_number": 468,
       "text": [
        "0.317"
       ]
      }
     ],
     "prompt_number": 468
    },
    {
     "cell_type": "code",
     "collapsed": false,
     "input": [],
     "language": "python",
     "metadata": {},
     "outputs": [],
     "prompt_number": 468
    },
    {
     "cell_type": "code",
     "collapsed": false,
     "input": [
      "def decision_func_week(df_tree_data,col_restrict=0):\n",
      "    \n",
      "    df_data=df_tree_data\n",
      "    \n",
      "    if col_restrict==0:\n",
      "        col_restrict=df_data.shape[1]-1\n",
      "        \n",
      "#     print col_restrict\n",
      "    \n",
      "#     print stop\n",
      "    \n",
      "#     print \"df_data: \"\n",
      "#     print df_data.shape[0]\n",
      "    #if df_data.shape[0]<10:\n",
      "        #print \"LESSSSSSSSSSSS\"\n",
      "        #return node(col='less',value='less200',status='stopped')\n",
      "    min_gin=1\n",
      "    min_col_for_gin=0\n",
      "    min_val_for_gin=0\n",
      "    left_data=0\n",
      "    right_data=0\n",
      "    a_back=0\n",
      "    b_back=0\n",
      "    c_back=0\n",
      "    d_back=0\n",
      "    \n",
      "#     print col_restrict\n",
      "#     rand_col_values=random.sample(columns_values,col_restrict)\n",
      "    \n",
      "    for i in columns_values:\n",
      "        if i in String_columns:\n",
      "            #print df_data[i]\n",
      "            unique_cols=unique(df_data[i])\n",
      "            #print unique_cols\n",
      "            #print stop\n",
      "            \n",
      "            #print unique_cols\n",
      "            for uni in unique_cols:\n",
      "                df_data_filter_uni=df_data[df_data[i]==uni]\n",
      "                df_data_filter_opp=df_data[df_data[i]!=uni]\n",
      "                #print df_data_filter_uni\n",
      "                a=df_data_filter_uni[df_data_filter_uni[label_column]=='1'].shape[0]\n",
      "                b=df_data_filter_uni[df_data_filter_uni[label_column]=='0'].shape[0]\n",
      "                c=df_data_filter_opp[df_data_filter_opp[label_column]=='1'].shape[0]\n",
      "                d=df_data_filter_opp[df_data_filter_opp[label_column]=='0'].shape[0]\n",
      "                #print [a,b,c,d]\n",
      "                curr_gini=gini_coef(a,b,c,d)\n",
      "                if curr_gini<min_gin:\n",
      "                    min_gin=curr_gini\n",
      "                    min_col_for_gin=i\n",
      "                    min_val_for_gin=uni\n",
      "                    left_data=df_data_filter_uni\n",
      "                    right_data=df_data_filter_opp\n",
      "                    a_back=a\n",
      "                    b_back=b\n",
      "                    c_back=c\n",
      "                    d_back=d\n",
      "#                     print \"ginchangeUP\"\n",
      "#                     print [min_gin,min_col_for_gin,min_val_for_gin]\n",
      "#                     print [a,b,c,d]\n",
      "                #print gini_coef(a,b,c,d)\n",
      "        else:\n",
      "            #continue\n",
      "            unique_cols=unique(df_data[i])\n",
      "            \n",
      "#             print df_data[i]\n",
      "            unique_cols=unique(df_data[i])\n",
      "            \n",
      "            shuffle(unique_cols)\n",
      "#             print unique_cols\n",
      "#             print stop\n",
      "            \n",
      "            #print unique_cols\n",
      "            for uni in unique_cols:\n",
      "                #print uni\n",
      "                df_data_filter_uni=df_data[df_data[i]<=uni]\n",
      "                df_data_filter_opp=df_data[df_data[i]>uni]\n",
      "                a=df_data_filter_uni[df_data_filter_uni[label_column]=='1'].shape[0]\n",
      "                b=df_data_filter_uni[df_data_filter_uni[label_column]=='0'].shape[0]\n",
      "\n",
      "                c=df_data_filter_opp[df_data_filter_opp[label_column]=='1'].shape[0]\n",
      "                d=df_data_filter_opp[df_data_filter_opp[label_column]=='0'].shape[0]\n",
      "                #print [a,b,c,d]\n",
      "                curr_gini=gini_coef(a,b,c,d)\n",
      "                if curr_gini<min_gin:\n",
      "                    min_gin=curr_gini\n",
      "                    min_col_for_gin=i\n",
      "                    min_val_for_gin=uni\n",
      "                    left_data=df_data_filter_uni\n",
      "                    right_data=df_data_filter_opp\n",
      "                    a_back=a\n",
      "                    b_back=b\n",
      "                    c_back=c\n",
      "                    d_back=d\n",
      "                    \n",
      "#                     print \"ginchangeDOWN\"\n",
      "#                     print [min_gin,min_col_for_gin,min_val_for_gin]\n",
      "#                     print [a,b,c,d]\n",
      "    \n",
      "   \n",
      "    \n",
      "#     print \"left\"\n",
      "#     print [min_gin,min_col_for_gin,min_val_for_gin]\n",
      "#     print [a_back,b_back,c_back,d_back]\n",
      "#     print \"\"\n",
      "    \n",
      "    if a_back>b_back:\n",
      "        #print \"left FINISH 1\"\n",
      "        left_tree_node=node(col=min_col_for_gin,value=min_val_for_gin,pred=1,status='finished')\n",
      "    else:\n",
      "        #print \"left FINISH 0\"\n",
      "        left_tree_node=node(col=min_col_for_gin,value=min_val_for_gin,pred=0,status='finished')\n",
      "      \n",
      "    if c_back>d_back:\n",
      "        #print \"right FINISH 1\"\n",
      "        right_tree_node=node(col=min_col_for_gin,value=min_val_for_gin,pred=1,status='finished')\n",
      "    else:\n",
      "        #print \"right FINISH 0\"\n",
      "        right_tree_node=node(col=min_col_for_gin,value=min_val_for_gin,pred=0,status='finished')\n",
      "#     if a_back==0 or b_back==0:\n",
      "        \n",
      "#         if a_back>0:\n",
      "#             print \"left FINISH 1\"\n",
      "#             left_tree_node=node(col=min_col_for_gin,value=min_val_for_gin,pred=1,status='finished')\n",
      "#         else:\n",
      "#             print \"left FINISH 0\"\n",
      "#             left_tree_node=node(col=min_col_for_gin,value=min_val_for_gin,pred=0,status='finished')\n",
      "#     else:\n",
      "#         left_tree_node=decision_func(left_data)\n",
      "    \n",
      "#     print \"right\"\n",
      "#     print [min_gin,min_col_for_gin,min_val_for_gin]\n",
      "#     print [a_back,b_back,c_back,d_back]\n",
      "#     print \"\"\n",
      "    \n",
      "#     if c_back==0 or d_back==0:\n",
      "        \n",
      "#         if c_back>0:\n",
      "#             print \"right FINISH 1\"\n",
      "#             right_tree_node=node(col=min_col_for_gin,value=min_val_for_gin,pred=1,status='finished')\n",
      "#         else:\n",
      "#             print \"right FINISH 0\"\n",
      "#             right_tree_node=node(col=min_col_for_gin,value=min_val_for_gin,pred=0,status='finished')\n",
      "#     else:\n",
      "#         right_tree_node=decision_func(right_data)\n",
      "    print \"tree finish\"\n",
      "    test_first_node=node(col=min_col_for_gin,value=min_val_for_gin,lt=left_tree_node,rt=right_tree_node)\n",
      "    return test_first_node"
     ],
     "language": "python",
     "metadata": {},
     "outputs": [],
     "prompt_number": 469
    },
    {
     "cell_type": "code",
     "collapsed": false,
     "input": [
      "def decision_func(df_data):\n",
      "#     print \"df_data: \"\n",
      "\n",
      "    global prune_multiple_flag    \n",
      "    global prune_multiple\n",
      "    global prune_minimum\n",
      "    \n",
      "    #print df_data.shape[0]\n",
      "    if df_data.shape[0]<prune_minimum:\n",
      "#         print \"LESSSSSSSSSSSS\"\n",
      "        #return node(col='less',value='less200',status='stopped')\n",
      "        a=df_data[df_data[label_column]=='1'].shape[0]\n",
      "        b=df_data[df_data[label_column]=='0'].shape[0]\n",
      "#         print a\n",
      "#         print b\n",
      "        if(a>b):\n",
      "#             print \"hh\"\n",
      "            return node(col='lesser',value='lesser',status='finished',pred=1)\n",
      "            no_of_leaves=no_of_leaves+1\n",
      "        else:\n",
      "            return node(col='lesser',value='lesser',status='finished',pred=0)\n",
      "            no_of_leaves=no_of_leaves+1\n",
      "    min_gin=1\n",
      "    min_col_for_gin=0\n",
      "    min_val_for_gin=0\n",
      "    left_data=0\n",
      "    right_data=0\n",
      "    a_back=0\n",
      "    b_back=0\n",
      "    c_back=0\n",
      "    d_back=0\n",
      "    \n",
      "    for i in columns_values:\n",
      "        if i in String_columns:\n",
      "            #print df_data[i]\n",
      "            unique_cols=unique(df_data[i])\n",
      "            #print unique_cols\n",
      "            #print stop\n",
      "            \n",
      "            #print unique_cols\n",
      "            for uni in unique_cols:\n",
      "                df_data_filter_uni=df_data[df_data[i]==uni]\n",
      "                df_data_filter_opp=df_data[df_data[i]!=uni]\n",
      "                #print df_data_filter_uni\n",
      "                a=df_data_filter_uni[df_data_filter_uni[label_column]=='1'].shape[0]\n",
      "                b=df_data_filter_uni[df_data_filter_uni[label_column]=='0'].shape[0]\n",
      "                c=df_data_filter_opp[df_data_filter_opp[label_column]=='1'].shape[0]\n",
      "                d=df_data_filter_opp[df_data_filter_opp[label_column]=='0'].shape[0]\n",
      "                #print [a,b,c,d]\n",
      "                curr_gini=gini_coef(a,b,c,d)\n",
      "                if curr_gini<min_gin:\n",
      "                    min_gin=curr_gini\n",
      "                    min_col_for_gin=i\n",
      "                    min_val_for_gin=uni\n",
      "                    left_data=df_data_filter_uni\n",
      "                    right_data=df_data_filter_opp\n",
      "                    a_back=a\n",
      "                    b_back=b\n",
      "                    c_back=c\n",
      "                    d_back=d\n",
      "#                     print \"ginchangeUP\"\n",
      "#                     print [min_gin,min_col_for_gin,min_val_for_gin]\n",
      "#                     print [a,b,c,d]\n",
      "                #print gini_coef(a,b,c,d)\n",
      "        else:\n",
      "            #continue\n",
      "            unique_cols=unique(df_data[i])\n",
      "            \n",
      "#             print df_data[i]\n",
      "            unique_cols=unique(df_data[i])\n",
      "            \n",
      "            shuffle(unique_cols)\n",
      "#             print unique_cols\n",
      "#             print stop\n",
      "            \n",
      "            #print unique_cols\n",
      "            for uni in unique_cols:\n",
      "                #print uni\n",
      "                df_data_filter_uni=df_data[df_data[i]<=uni]\n",
      "                df_data_filter_opp=df_data[df_data[i]>uni]\n",
      "                a=df_data_filter_uni[df_data_filter_uni[label_column]=='1'].shape[0]\n",
      "                b=df_data_filter_uni[df_data_filter_uni[label_column]=='0'].shape[0]\n",
      "\n",
      "                c=df_data_filter_opp[df_data_filter_opp[label_column]=='1'].shape[0]\n",
      "                d=df_data_filter_opp[df_data_filter_opp[label_column]=='0'].shape[0]\n",
      "                #print [a,b,c,d]\n",
      "                curr_gini=gini_coef(a,b,c,d)\n",
      "                if curr_gini<min_gin:\n",
      "                    min_gin=curr_gini\n",
      "                    min_col_for_gin=i\n",
      "                    min_val_for_gin=uni\n",
      "                    left_data=df_data_filter_uni\n",
      "                    right_data=df_data_filter_opp\n",
      "                    a_back=a\n",
      "                    b_back=b\n",
      "                    c_back=c\n",
      "                    d_back=d\n",
      "                    \n",
      "#                     print \"ginchangeDOWN\"\n",
      "#                     print [min_gin,min_col_for_gin,min_val_for_gin]\n",
      "#                     print [a,b,c,d]\n",
      "    \n",
      "   \n",
      "    \n",
      "#     print \"left\"\n",
      "#     print [min_gin,min_col_for_gin,min_val_for_gin]\n",
      "#     print [a_back,b_back,c_back,d_back]\n",
      "#     print \"\"\n",
      "    \n",
      "    split_each=[a_back,b_back,c_back,d_back]\n",
      "    split_each_left=[a_back,b_back,-1,-1]\n",
      "    split_each_right=[-1,-1,c_back,d_back]\n",
      "    \n",
      "    \n",
      "    if a_back==0 or b_back==0:\n",
      "        \n",
      "        if a_back>0:\n",
      "#             print \"left FINISH 1\"\n",
      "            left_tree_node=node(col=min_col_for_gin,value=min_val_for_gin,pred=1,status='finished',size=a_back+b_back,splits=split_each_left)\n",
      "        else:\n",
      "#             print \"left FINISH 0\"\n",
      "            left_tree_node=node(col=min_col_for_gin,value=min_val_for_gin,pred=0,status='finished',size=a_back+b_back,splits=split_each_left)\n",
      "    else:\n",
      "        #left_tree_node=decision_func(left_data)\n",
      "        \n",
      "        if (a_back>b_back and a_back>prune_multiple*(b_back)) and prune_multiple_flag==1:\n",
      "            left_tree_node=node(col=min_col_for_gin,value=min_val_for_gin,pred=1,status='finished',size=a_back+b_back,splits=split_each_left)            \n",
      "        elif (b_back>a_back and b_back>prune_multiple*(a_back)) and prune_multiple_flag==1:\n",
      "            left_tree_node=node(col=min_col_for_gin,value=min_val_for_gin,pred=0,status='finished',size=a_back+b_back,splits=split_each_left)            \n",
      "        else:\n",
      "            left_tree_node=decision_func(left_data)\n",
      "    \n",
      "#     print \"right\"\n",
      "#     print [min_gin,min_col_for_gin,min_val_for_gin]\n",
      "#     print [a_back,b_back,c_back,d_back]\n",
      "#     print \"\"\n",
      "    \n",
      "    if c_back==0 or d_back==0:\n",
      "        \n",
      "        if c_back>0:\n",
      "#             print \"right FINISH 1\"\n",
      "            right_tree_node=node(col=min_col_for_gin,value=min_val_for_gin,pred=1,status='finished',size=c_back+d_back,splits=split_each_right)\n",
      "        else:\n",
      "#             print \"right FINISH 0\"\n",
      "            right_tree_node=node(col=min_col_for_gin,value=min_val_for_gin,pred=0,status='finished',size=c_back+d_back,splits=split_each_right)\n",
      "    else:\n",
      "        #right_tree_node=decision_func(right_data)\n",
      "        if (c_back>d_back and c_back>prune_multiple*(d_back)) and prune_multiple_flag==1:\n",
      "            right_tree_node=node(col=min_col_for_gin,value=min_val_for_gin,pred=1,status='finished',size=c_back+d_back,splits=split_each_right)            \n",
      "        elif (d_back>c_back and d_back>prune_multiple*(c_back)) and prune_multiple_flag==1:\n",
      "            right_tree_node=node(col=min_col_for_gin,value=min_val_for_gin,pred=0,status='finished',size=c_back+d_back,splits=split_each_right)            \n",
      "        else: \n",
      "            right_tree_node=decision_func(right_data)\n",
      "    \n",
      "    test_first_node=node(col=min_col_for_gin,value=min_val_for_gin,lt=left_tree_node,rt=right_tree_node,gini=min_gin,size=df_data.shape[0],splits=split_each)\n",
      "    return test_first_node"
     ],
     "language": "python",
     "metadata": {},
     "outputs": [],
     "prompt_number": 470
    },
    {
     "cell_type": "code",
     "collapsed": false,
     "input": [
      "# def fin_acc(l_p):\n",
      "#   siz=len(l_p)\n",
      "#   match=0\n",
      "#   for i in range(0,len(l_p)):\n",
      "#     if int(l_p[i][0])==int(l_p[i][1]):\n",
      "#       match=match+1\n",
      "#   acc=1.0*match/siz\n",
      "#   return acc"
     ],
     "language": "python",
     "metadata": {},
     "outputs": [],
     "prompt_number": 471
    },
    {
     "cell_type": "code",
     "collapsed": false,
     "input": [
      "def measures(l_p):\n",
      "    a = 0\n",
      "    b = 0\n",
      "    c = 0\n",
      "    d = 0\n",
      "    for x in range(0,len(l_p)):\n",
      "        if int(l_p[x][1]) == int(l_p[x][0]):\n",
      "            #correct=correct+1\n",
      "            if l_p[x][1] == 0:\n",
      "                d = d+1\n",
      "            else:\n",
      "                a = a+1\n",
      "        else:\n",
      "            if l_p[x][1] == 0:\n",
      "                b = b+1\n",
      "            else:\n",
      "                c = c+1\n",
      "\n",
      "    \n",
      "    accuracy = ((a+d)/float(a+b+c+d))*100\n",
      "    if (a+c)==0:\n",
      "        precision = 'denominator_0'\n",
      "    else:\n",
      "        precision = a/float(a+c)\n",
      "    if (a+b)==0:\n",
      "        #precision = 'denominator_0'\n",
      "        recall = 'denominator_0'\n",
      "    else:\n",
      "        recall = a/float(a+b)\n",
      "    if ((2*a)+b+c)==0:\n",
      "        fmeasure = 'denominator_0'\n",
      "    else: \n",
      "        fmeasure = (2*a)/float((2*a)+b+c)\n",
      "\n",
      "    print \"accuracy: \" + str(accuracy)\n",
      "    print \"precision: \" + str(precision)\n",
      "    print \"recall: \" + str(recall)\n",
      "    print \"fmeasure: \" + str(fmeasure)\n",
      "    print \"\"\n",
      "    return accuracy, precision, recall, fmeasure"
     ],
     "language": "python",
     "metadata": {},
     "outputs": [],
     "prompt_number": 472
    },
    {
     "cell_type": "code",
     "collapsed": false,
     "input": [
      "def testing_data(tree_returned,df_data_test):\n",
      "    \n",
      "    print tree_returned.col\n",
      "    tree_returned_copy=tree_returned\n",
      "    labels_and_pred=[]\n",
      "    for row in df_data_test.iterrows():\n",
      "#         print \"ORG COLUMN\"\n",
      "#         print row[1][label_column]\n",
      "        org_label=row[1][label_column]\n",
      "        a_row=row[1]\n",
      "    #     print row[1]\n",
      "    #     print row[2]\n",
      "        no_idea=1\n",
      "        tree_returned=tree_returned_copy\n",
      "        while(no_idea==1):\n",
      "            #print \"COL: \"+str(tree_returned.col)\n",
      "            if tree_returned.col==\"lesser\":\n",
      "                #print \"lesser found\"\n",
      "                #print tree_returned.answer\n",
      "                labels_and_pred.append([org_label,tree_returned.answer])\n",
      "                no_idea=0\n",
      "                break \n",
      "            if (tree_returned.col in String_columns):\n",
      "#                 print \"STRING col\"\n",
      "#                 print a_row[tree_returned.col]\n",
      "#                 print tree_returned.val\n",
      "                if a_row[tree_returned.col]==tree_returned.val:\n",
      "#                     print \"equals string\"\n",
      "                    if tree_returned.status==\"finished\":\n",
      "#                         print \"finished found\"\n",
      "#                         print tree_returned.answer\n",
      "                        labels_and_pred.append([org_label,tree_returned.answer])\n",
      "                        no_idea=0\n",
      "                    else:\n",
      "#                         print \"finished NOT found\"            \n",
      "                        tree_returned=tree_returned.left_tree\n",
      "                else:\n",
      "#                     print \"not equal string\"\n",
      "                    if tree_returned.status==\"finished\":\n",
      "#                         print \"finished found\"\n",
      "#                         print tree_returned.answer\n",
      "                        labels_and_pred.append([org_label,tree_returned.answer])\n",
      "                        no_idea=0\n",
      "                    else:\n",
      "#                         print \"finished NOT found\"            \n",
      "                        tree_returned=tree_returned.right_tree\n",
      "            else:\n",
      "#                 print \"NOT STR__ING col\"\n",
      "#                 print a_row[tree_returned.col]\n",
      "#                 print tree_returned.val\n",
      "                if a_row[tree_returned.col]<=tree_returned.val:\n",
      "#                     print \"less than\"\n",
      "                    if tree_returned.status==\"finished\":\n",
      "#                         print \"finished found\"\n",
      "#                         print tree_returned.answer\n",
      "                        labels_and_pred.append([org_label,tree_returned.answer])\n",
      "                        no_idea=0\n",
      "                    else:\n",
      "#                         print \"finished NOT found\"            \n",
      "                        tree_returned=tree_returned.left_tree\n",
      "                else:\n",
      "#                     print \"greater than\"\n",
      "                    if tree_returned.status==\"finished\":\n",
      "#                         print \"finished found\"\n",
      "#                         print tree_returned.answer\n",
      "                        labels_and_pred.append([org_label,tree_returned.answer])\n",
      "                        no_idea=0\n",
      "                    else:\n",
      "#                         print \"finished NOT found\"            \n",
      "                        tree_returned=tree_returned.right_tree\n",
      "\n",
      "    return labels_and_pred                    \n"
     ],
     "language": "python",
     "metadata": {},
     "outputs": [],
     "prompt_number": 473
    },
    {
     "cell_type": "code",
     "collapsed": false,
     "input": [
      "#df_data_external_test\n",
      "k_fold"
     ],
     "language": "python",
     "metadata": {},
     "outputs": [
      {
       "metadata": {},
       "output_type": "pyout",
       "prompt_number": 474,
       "text": [
        "1"
       ]
      }
     ],
     "prompt_number": 474
    },
    {
     "cell_type": "code",
     "collapsed": false,
     "input": [
      "# import random\n",
      "\n",
      "# rows = random.sample(df_data_full.index, test_size)\n",
      "\n",
      "final_accuracy=[]\n",
      "final_precision=[]\n",
      "final_recall=[]\n",
      "final_f_measure=[]\n",
      "    \n",
      "\n",
      "\n",
      "for i in range(0,k_fold):\n",
      "    \n",
      "    print \"current fold: \"+str(i)+\" out of \"+str(k_fold)\n",
      "    if k_fold==1:\n",
      "        rows=range(0,0)\n",
      "    elif i==k_fold-1:\n",
      "        rows=range(i*test_size,t_size)\n",
      "    else:\n",
      "        rows=range(i*test_size,(i+1)*test_size)\n",
      "    #print rows\n",
      "\n",
      "\n",
      "    df_10 = df_data_full.ix[rows]\n",
      "    df_90 = df_data_full.drop(rows)\n",
      "    df_data=df_90\n",
      "    df_data_test=df_10\n",
      "    \n",
      "    print df_data.shape\n",
      "    print df_data_test.shape\n",
      "    \n",
      "    \n",
      "    tree_returned=decision_func(df_data)\n",
      "    \n",
      "    if k_fold_remove!=1:#means no testing data only tree\n",
      "        \n",
      "        pred_and_labels=testing_data(tree_returned,df_data_test)\n",
      "        acc,p,r,f=measures(pred_and_labels)\n",
      "        final_accuracy.append(acc)\n",
      "        final_precision.append(p)\n",
      "        final_recall.append(r)\n",
      "        final_f_measure.append(r)\n",
      "    else:\n",
      "        pred_and_labels=testing_data(tree_returned,df_data)\n",
      "        acc,p,r,f=measures(pred_and_labels)\n",
      "        final_accuracy.append(acc)\n",
      "        final_precision.append(p)\n",
      "        final_recall.append(r)\n",
      "        final_f_measure.append(r)\n",
      "        \n",
      "    \n",
      "    \n",
      "    \n",
      "    \n",
      "    #TEST ACC CHECK\n",
      "    \n",
      "    #print stop\n",
      "    "
     ],
     "language": "python",
     "metadata": {},
     "outputs": [
      {
       "output_type": "stream",
       "stream": "stdout",
       "text": [
        "current fold: 0 out of 1\n",
        "(14, 5)\n",
        "(0, 5)\n",
        "0"
       ]
      },
      {
       "output_type": "stream",
       "stream": "stdout",
       "text": [
        "\n",
        "accuracy: 100.0\n",
        "precision: 1.0\n",
        "recall: 1.0\n",
        "fmeasure: 1.0\n",
        "\n"
       ]
      }
     ],
     "prompt_number": 475
    },
    {
     "cell_type": "code",
     "collapsed": false,
     "input": [],
     "language": "python",
     "metadata": {},
     "outputs": [],
     "prompt_number": 475
    },
    {
     "cell_type": "heading",
     "level": 2,
     "metadata": {},
     "source": [
      "RESULTS"
     ]
    },
    {
     "cell_type": "code",
     "collapsed": false,
     "input": [
      "print final_accuracy\n",
      "print final_precision\n",
      "print final_recall\n",
      "print final_f_measure"
     ],
     "language": "python",
     "metadata": {},
     "outputs": [
      {
       "output_type": "stream",
       "stream": "stdout",
       "text": [
        "[100.0]\n",
        "[1.0]\n",
        "[1.0]\n",
        "[1.0]\n"
       ]
      }
     ],
     "prompt_number": 476
    },
    {
     "cell_type": "code",
     "collapsed": false,
     "input": [
      "print mean(final_accuracy)\n",
      "print mean(final_precision)\n",
      "print mean(final_recall)\n",
      "print mean(final_f_measure)"
     ],
     "language": "python",
     "metadata": {},
     "outputs": [
      {
       "output_type": "stream",
       "stream": "stdout",
       "text": [
        "100.0\n",
        "1.0\n",
        "1.0\n",
        "1.0\n"
       ]
      }
     ],
     "prompt_number": 477
    },
    {
     "cell_type": "code",
     "collapsed": false,
     "input": [
      "tree_returned.printnode()"
     ],
     "language": "python",
     "metadata": {},
     "outputs": [
      {
       "output_type": "stream",
       "stream": "stdout",
       "text": [
        "[0, 'overcast', 'running', None, 0.357, 14, [4, 0, 5, 5]]\n"
       ]
      }
     ],
     "prompt_number": 478
    },
    {
     "cell_type": "code",
     "collapsed": false,
     "input": [
      "tree_returned.left_tree.printnode()"
     ],
     "language": "python",
     "metadata": {},
     "outputs": [
      {
       "output_type": "stream",
       "stream": "stdout",
       "text": [
        "[0, 'overcast', 'finished', 1, -1, 4, [4, 0, -1, -1]]\n"
       ]
      }
     ],
     "prompt_number": 479
    },
    {
     "cell_type": "code",
     "collapsed": false,
     "input": [
      "# tree_returned.right_tree.printnode()"
     ],
     "language": "python",
     "metadata": {},
     "outputs": [],
     "prompt_number": 480
    },
    {
     "cell_type": "code",
     "collapsed": false,
     "input": [
      "# tree_returned.left_tree.left_tree.printnode()"
     ],
     "language": "python",
     "metadata": {},
     "outputs": [],
     "prompt_number": 481
    },
    {
     "cell_type": "code",
     "collapsed": false,
     "input": [
      "# tree_returned.left_tree.right_tree.printnode()"
     ],
     "language": "python",
     "metadata": {},
     "outputs": [],
     "prompt_number": 482
    },
    {
     "cell_type": "code",
     "collapsed": false,
     "input": [
      "#tree_returned.right_tree.printnode()\n",
      "tree_get=tree_returned.getnode()\n",
      "print tree_get\n",
      "\n",
      "if tree_get[0] in String_columns:\n",
      "    a='X['+str(tree_get[0])+'] == '+str(tree_get[1])\n",
      "else:\n",
      "    a='X['+str(tree_get[0])+']<='+str(tree_get[1])\n",
      "b=\"\\ngini= \"+str(tree_get[3])\n",
      "c=\"\\nsamples : \"+str(tree_get[4])\n",
      "d=\"\\nsplits= \"+str(tree_get[5])\n",
      "e=\"\\npred= \"+str(tree_get[2])\n",
      "\n",
      "print a+b+c+d+e"
     ],
     "language": "python",
     "metadata": {},
     "outputs": [
      {
       "output_type": "stream",
       "stream": "stdout",
       "text": [
        "[0, 'overcast', 'NA', 0.357, 14, [4, 0, 5, 5]]\n",
        "X[0] == overcast\n",
        "gini= 0.357\n",
        "samples : 14\n",
        "splits= [4, 0, 5, 5]\n",
        "pred= NA\n"
       ]
      }
     ],
     "prompt_number": 483
    },
    {
     "cell_type": "heading",
     "level": 2,
     "metadata": {},
     "source": [
      "TREE IMAGE CREATION"
     ]
    },
    {
     "cell_type": "code",
     "collapsed": false,
     "input": [
      "#BFS on tree node\n",
      "tree_returned_copy=tree_returned"
     ],
     "language": "python",
     "metadata": {},
     "outputs": [],
     "prompt_number": 484
    },
    {
     "cell_type": "code",
     "collapsed": false,
     "input": [
      "from graphviz import Digraph\n",
      "dot = Digraph(comment='The Round Table')\n",
      "\n",
      "edges2=[]\n",
      "\n",
      "dict_tree={}\n",
      "tree_still_running=1\n",
      "\n",
      "\n",
      "\n",
      "vertex_counter=0\n",
      "\n",
      "def form_edges(tree_returned,vertex_root=0,side=\"True\"):\n",
      "    global dot\n",
      "    global vertex_counter\n",
      "    vertex_counter=vertex_counter+1\n",
      "    str_vertex=str(vertex_counter)\n",
      "    \n",
      "    tree_get=tree_returned.getnode()\n",
      "    if tree_get[0] in String_columns:\n",
      "        a='X['+str(tree_get[0])+'] == '+str(tree_get[1])\n",
      "    else:\n",
      "        a='X['+str(tree_get[0])+']<='+str(tree_get[1])\n",
      "    b=\"\\ngini= \"+str(tree_get[3])\n",
      "    c=\"\\nsamples : \"+str(tree_get[4])\n",
      "    d=\"\\nsplits= \"+str(tree_get[5])\n",
      "    e=\"\\npred= \"+str(tree_get[2])\n",
      "\n",
      "    tree_node_string=a+b+c+d+e\n",
      "    \n",
      "    \n",
      "    \n",
      "    dot.node(str_vertex, tree_node_string)\n",
      "    \n",
      "    if vertex_root!=0:\n",
      "        #dot.edge(str(vertex_root), str(str_vertex), constraint='false',label='subclass')\n",
      "        edges2.append((str(vertex_root),str(str_vertex)))\n",
      "        dot.edge(str(vertex_root), str(str_vertex), constraint='false',label=side,color='white')\n",
      "    \n",
      "    \n",
      "    if tree_returned.left_tree!=None:        \n",
      "        form_edges(tree_returned.left_tree,vertex_root=str_vertex,side=\"True\")\n",
      "    if tree_returned.right_tree!=None:        \n",
      "        form_edges(tree_returned.right_tree,vertex_root=str_vertex,side=\"False\")\n",
      "\n",
      "\n",
      "form_edges(tree_returned)\n",
      "\n",
      "\n",
      "dot.edges(edges2)        \n"
     ],
     "language": "python",
     "metadata": {},
     "outputs": [],
     "prompt_number": 485
    },
    {
     "cell_type": "code",
     "collapsed": false,
     "input": [
      "#print(dot.source)"
     ],
     "language": "python",
     "metadata": {},
     "outputs": [],
     "prompt_number": 486
    },
    {
     "cell_type": "code",
     "collapsed": false,
     "input": [
      "edges2"
     ],
     "language": "python",
     "metadata": {},
     "outputs": [
      {
       "metadata": {},
       "output_type": "pyout",
       "prompt_number": 487,
       "text": [
        "[('1', '2'),\n",
        " ('1', '3'),\n",
        " ('3', '4'),\n",
        " ('4', '5'),\n",
        " ('5', '6'),\n",
        " ('5', '7'),\n",
        " ('4', '8'),\n",
        " ('3', '9'),\n",
        " ('9', '10'),\n",
        " ('10', '11'),\n",
        " ('10', '12'),\n",
        " ('9', '13')]"
       ]
      }
     ],
     "prompt_number": 487
    },
    {
     "cell_type": "code",
     "collapsed": false,
     "input": [
      "dot.render('demo.gv', view=True)"
     ],
     "language": "python",
     "metadata": {},
     "outputs": [
      {
       "metadata": {},
       "output_type": "pyout",
       "prompt_number": 489,
       "text": [
        "'demo.gv.pdf'"
       ]
      }
     ],
     "prompt_number": 489
    },
    {
     "cell_type": "heading",
     "level": 2,
     "metadata": {},
     "source": [
      "TREE IMAGE CREATION ENDS"
     ]
    },
    {
     "cell_type": "code",
     "collapsed": false,
     "input": [
      "#Check external test set"
     ],
     "language": "python",
     "metadata": {},
     "outputs": [],
     "prompt_number": 446
    },
    {
     "cell_type": "code",
     "collapsed": false,
     "input": [
      "list_container_ext=['sunny','cool','high','weak','2']"
     ],
     "language": "python",
     "metadata": {},
     "outputs": [],
     "prompt_number": 447
    },
    {
     "cell_type": "code",
     "collapsed": false,
     "input": [
      "df_data_ext = pd.DataFrame(list_container_ext)"
     ],
     "language": "python",
     "metadata": {},
     "outputs": [],
     "prompt_number": 46
    },
    {
     "cell_type": "code",
     "collapsed": false,
     "input": [
      "pred_and_labels=testing_data(tree_returned,df_data_test)\n",
      "acc,p,r,f=measures(pred_and_labels)\n",
      "final_accuracy.append(acc)\n",
      "final_precision.append(p)\n",
      "final_recall.append(r)\n",
      "final_f_measure.append(r)"
     ],
     "language": "python",
     "metadata": {},
     "outputs": []
    },
    {
     "cell_type": "code",
     "collapsed": false,
     "input": [
      "import time\n",
      "start_time = time.time()\n",
      "for i in range(0,100):\n",
      "    print \"check for time\"\n",
      "print(\"--- %s seconds ---\" % (time.time() - start_time))"
     ],
     "language": "python",
     "metadata": {},
     "outputs": [
      {
       "output_type": "stream",
       "stream": "stdout",
       "text": [
        "check for time\n",
        "check for time\n",
        "check for time\n",
        "check for time\n",
        "check for time\n",
        "check for time\n",
        "check for time\n",
        "check for time\n",
        "check for time\n",
        "check for time\n",
        "check for time\n",
        "check for time\n",
        "check for time\n",
        "check for time\n",
        "check for time\n",
        "check for time\n",
        "check for time\n",
        "check for time\n",
        "check for time\n",
        "check for time\n",
        "check for time\n",
        "check for time\n",
        "check for time\n",
        "check for time\n",
        "check for time\n",
        "check for time\n",
        "check for time\n",
        "check for time\n",
        "check for time\n",
        "check for time\n",
        "check for time\n",
        "check for time\n",
        "check for time\n",
        "check for time\n",
        "check for time\n",
        "check for time\n",
        "check for time\n",
        "check for time\n",
        "check for time\n",
        "check for time\n",
        "check for time\n",
        "check for time\n",
        "check for time\n",
        "check for time\n",
        "check for time\n",
        "check for time\n",
        "check for time\n",
        "check for time\n",
        "check for time\n",
        "check for time\n",
        "check for time\n",
        "check for time\n",
        "check for time\n",
        "check for time\n",
        "check for time\n",
        "check for time\n",
        "check for time\n",
        "check for time\n",
        "check for time\n",
        "check for time\n",
        "check for time\n",
        "check for time\n",
        "check for time\n",
        "check for time\n",
        "check for time\n",
        "check for time\n",
        "check for time\n",
        "check for time\n",
        "check for time\n",
        "check for time\n",
        "check for time\n",
        "check for time\n",
        "check for time\n",
        "check for time\n",
        "check for time\n",
        "check for time\n",
        "check for time\n",
        "check for time\n",
        "check for time\n",
        "check for time\n",
        "check for time\n",
        "check for time\n",
        "check for time\n",
        "check for time\n",
        "check for time\n",
        "check for time\n",
        "check for time\n",
        "check for time\n",
        "check for time\n",
        "check for time\n",
        "check for time\n",
        "check for time\n",
        "check for time\n",
        "check for time\n",
        "check for time\n",
        "check for time\n",
        "check for time\n",
        "check for time\n",
        "check for time\n",
        "check for time\n",
        "--- 0.00300002098083 seconds ---\n"
       ]
      }
     ],
     "prompt_number": 373
    },
    {
     "cell_type": "code",
     "collapsed": false,
     "input": [],
     "language": "python",
     "metadata": {},
     "outputs": []
    }
   ],
   "metadata": {}
  }
 ]
}